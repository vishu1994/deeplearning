{
 "cells": [
  {
   "cell_type": "markdown",
   "id": "3575d7e4",
   "metadata": {},
   "source": [
    "$E = mc^{a+b}$"
   ]
  },
  {
   "cell_type": "markdown",
   "id": "b292a537",
   "metadata": {},
   "source": [
    "\\[E=mc²\\]\n"
   ]
  },
  {
   "cell_type": "markdown",
   "id": "7a3cebef",
   "metadata": {},
   "source": [
    "$a_i$"
   ]
  },
  {
   "cell_type": "markdown",
   "id": "d9727a90",
   "metadata": {},
   "source": [
    "$a^i$"
   ]
  },
  {
   "cell_type": "markdown",
   "id": "6c355803",
   "metadata": {},
   "source": [
    "\\[ a_1^2 + a_2^2 = a_3^2 \\]\n"
   ]
  },
  {
   "cell_type": "markdown",
   "id": "5f5fabe1",
   "metadata": {},
   "source": [
    "$\\mathrm{e}^{i\\pi}$"
   ]
  },
  {
   "cell_type": "markdown",
   "id": "4ca0e945",
   "metadata": {},
   "source": [
    "This is $e$.  This is $\\mathrm{e}$."
   ]
  },
  {
   "cell_type": "markdown",
   "id": "b96949d6",
   "metadata": {},
   "source": [
    "$$\\mathbf{a}\\cdot\\mathbf{b}c= \\sum_{i=1}^n a_ib_i \\\\\n",
    "=a+b$$"
   ]
  },
  {
   "cell_type": "markdown",
   "id": "e3b657e4",
   "metadata": {},
   "source": [
    "For a three-vector consisting of $x$, $y$, and $z$ components,\n",
    "\n",
    "\\begin{align}\n",
    "\\mathbf{a} \\cdot \\mathbf{b} &= \\sum_{i=1}^n a_i b_i \\\\\n",
    "&= a_x b_x + a_y b_y + a_z b_z.\n",
    "\\end{align}"
   ]
  },
  {
   "cell_type": "markdown",
   "id": "5528851e",
   "metadata": {},
   "source": [
    "\\begin{align}\n",
    "\\mathbf{a} \\cdot \\mathbf{b} &= \\sum_{i=1}^n a_ib_i \\\\\n",
    "&= a_1b_1 + a_2b_2\n",
    "\\end{align}"
   ]
  },
  {
   "cell_type": "markdown",
   "id": "2b4c7c9d",
   "metadata": {},
   "source": [
    "\\begin{align}\n",
    "P(A | B) = \\frac{P(B|A)P(A)}{P(B)}\n",
    "\\end{align}"
   ]
  },
  {
   "cell_type": "markdown",
   "id": "253a612d",
   "metadata": {},
   "source": [
    "\\begin{align}\n",
    "P(A | B) = \\frac{P(B | A) P(A)}{P(B)}.\n",
    "\\end{align}"
   ]
  },
  {
   "cell_type": "markdown",
   "id": "feb5b483",
   "metadata": {},
   "source": [
    "\\begin{align}\n",
    "y=\\frac{1}{1+\\mathrm{e}^\\mathbf{-wx+b}}\n",
    "\\end{align}"
   ]
  },
  {
   "cell_type": "markdown",
   "id": "e0d2980a",
   "metadata": {},
   "source": [
    "$\\hat{Y} = \\hat{\\beta}_{0} + \\sum \\limits _{j=1} ^{P} X_{j}\\hat{\\beta}_{j}$"
   ]
  },
  {
   "cell_type": "markdown",
   "id": "436b85b1",
   "metadata": {},
   "source": [
    "$\\hat{Y} = \\hat{\\beta}_{0} + \\sum \\limits _{j=1} ^{p} X_{j}\\hat{\\beta}_{j} $\n"
   ]
  },
  {
   "cell_type": "markdown",
   "id": "db4e673e",
   "metadata": {},
   "source": [
    "***\n",
    "$\\mathbf{\\text{Gradient Tree Boosting Algorithm}}$<br>\n",
    "***\n",
    "1.&emsp;Initialize model with a constant value $$f_{0}(x) = \\textrm{arg min}_{\\gamma} \\sum \\limits _{i=1} ^{N} L(y_{i}, \\gamma)$$\n",
    "2.&emsp;For m = 1 to M:<br>\n",
    "&emsp;&emsp;(a)&emsp;For $i = 1,2,...,N$ compute<br>\n",
    "    $$r_{im} = - \\displaystyle \\Bigg[\\frac{\\partial L(y_{i}, f(x_{i}))}{\\partial f(x_{i})}\\Bigg]_{f=f_{m−1}}$$\n",
    "&emsp;&emsp;(b)&emsp;Fit a regression tree to the targets $r_{im}$ giving terminal regions<br>\n",
    "&emsp;&emsp;&emsp;&emsp;$R_{jm}, j = 1, 2, . . . , J_{m}.$<br><br>\n",
    "&emsp;&emsp;(c)&emsp;For $j = 1, 2, . . . , J_{m}$ compute<br>\n",
    "$$\\gamma_{jm} = \\underset{\\gamma}{\\textrm{arg min}} \\sum \\limits _{x_{i} \\in R_{jm}} L(y_{i}, f_{m−1}(x_{i}) + \\gamma)$$\n",
    "<br>\n",
    "&emsp;&emsp;(d)&emsp;Update $f_{m}(x) = f_{m−1}(x) + \\sum _{j=1} ^{J_{m}} \\gamma_{jm} I(x \\in R_{jm})$<br><br>\n",
    "3. Output $\\hat{f}(x) = f_{M}(x)$\n",
    "***"
   ]
  },
  {
   "cell_type": "markdown",
   "id": "a9b08ee4",
   "metadata": {},
   "source": [
    "***\n",
    "$\\mathbf{{\\text{Gradient Tree Boosting Algorithm}}}$\n",
    "***\n",
    "1.&emsp;Initialise Model with a constant value<br>\n",
    "    \\begin{align}\n",
    "    f_{0}(x) = \\textrm{arg min}_{\\gamma} \\sum \\limits _{i=1} ^{n} L(y_{i} , \\gamma)\n",
    "    \\end{align}\n",
    "\n",
    "2.&emsp;For m=1 to M: <br>\n",
    "&emsp;&emsp;(a) For $i=1,2,3.... N$ compute\n",
    "        \\begin{align}\n",
    "            r_{im} = - \\displaystyle \\Bigg[\\frac{\\partial L(y_{i},f(x_{i}))}{\\partial f(x_{i})}\\Bigg]_{f_{m-1}}\n",
    "        \\end{align}\n",
    "&emsp;&emsp;(b) Fit a regression tree to the target $r_{im}$ giving terminal regions <br>\n",
    "&emsp;&emsp;&emsp;&emsp;$R_{jm}, j=1,2,3...j_{m}$ <br>\n",
    "&emsp;&emsp;(b) For $j=1,2... j_{m}$ compute <br>\n",
    "\\begin{align}\n",
    "   \\gamma_{jm} = \\underset{\\gamma}{\\textrm{arg min}} \\sum \\limits _{x \\in R_{jm}} L(y_{i}, f_{m-1}(x_{i}) + \\gamma)\n",
    "\\end{align}\n",
    "&emsp;&emsp;(d) $f_{m}(x) = f_{m-1}(x) + \\sum \\limits _{j=1} ^{J_{m}} \\gamma_{jm} I(x \\in R_{jm})$\n"
   ]
  },
  {
   "cell_type": "markdown",
   "id": "7f8decfe",
   "metadata": {},
   "source": []
  },
  {
   "cell_type": "markdown",
   "id": "6d05c472",
   "metadata": {},
   "source": [
    "***\n",
    "$\\mathbf{{\\text{Gradient Tree Boosting Algorithm}}}$\n",
    "***\n",
    "1.&emsp;Initialise Model with a constant value<br>\n",
    "\\begin{align}\n",
    "f_{0}(x) = \\textrm{arg min}_{\\gamma} \\sum \\limits _{i=1} ^{n} L(y_{i} , \\gamma)\n",
    "\\end{align}\n",
    "2.&emsp;For m=1 to M: <br>\n",
    "&emsp;&emsp;(a) For $i=1,2,3.... N$ compute\n",
    "\\begin{align}\n",
    "    r_{im} = -  \\Bigg[\\frac{\\partial L(y_{i},f(x_{i}))}{\\partial f(x_{i})}\\Bigg]_{f_{m-1}}\n",
    "\\end{align}\n",
    "&emsp;&emsp;(b) Fit a regression tree to the target $r_{im}$ giving terminal regions <br>\n",
    "&emsp;&emsp;&emsp;&emsp;$R_{jm}, j=1,2,3...j_{m}$ <br>\n",
    "&emsp;&emsp;(b) For $j=1,2... j_{m}$ compute <br>\n",
    "\\begin{align}\n",
    "   \\gamma_{jm} = \\underset{\\gamma}{\\textrm{arg min}} \\sum \\limits _{x \\in R_{jm}} L(y_{i}, f_{m-1}(x_{i}) + \\gamma)\n",
    "\\end{align}\n",
    "&emsp;&emsp;(d) $f_{m}(x) = f_{m-1}(x) + \\sum \\limits _{j=1} ^{J_{m}} \\gamma_{jm} I(x \\in R_{jm})$\n"
   ]
  },
  {
   "cell_type": "markdown",
   "id": "1bf21a0e",
   "metadata": {},
   "source": [
    "$a_i$"
   ]
  },
  {
   "cell_type": "code",
   "execution_count": null,
   "id": "76b4f1c1",
   "metadata": {},
   "outputs": [],
   "source": []
  }
 ],
 "metadata": {
  "celltoolbar": "Raw Cell Format",
  "kernelspec": {
   "display_name": "Python [conda env:case_solving] *",
   "language": "python",
   "name": "conda-env-case_solving-py"
  },
  "language_info": {
   "codemirror_mode": {
    "name": "ipython",
    "version": 3
   },
   "file_extension": ".py",
   "mimetype": "text/x-python",
   "name": "python",
   "nbconvert_exporter": "python",
   "pygments_lexer": "ipython3",
   "version": "3.8.12"
  }
 },
 "nbformat": 4,
 "nbformat_minor": 5
}
